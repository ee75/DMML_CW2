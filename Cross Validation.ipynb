{
 "cells": [
  {
   "cell_type": "markdown",
   "metadata": {},
   "source": [
    "# Import Libraries"
   ]
  },
  {
   "cell_type": "code",
   "execution_count": null,
   "metadata": {},
   "outputs": [],
   "source": [
    "import numpy as np\n",
    "import pandas as pd\n",
    "import matplotlib.pyplot as plt\n",
    "import seaborn as sns\n",
    "from sklearn.model_selection import KFold, cross_val_score\n",
    "from sklearn import metrics\n",
    "from keras.models import Sequential\n",
    "from keras.layers import Dense, Activation, Flatten\n",
    "from keras.wrappers.scikit_learn import KerasClassifier\n",
    "from keras.optimizers import SGD\n",
    "from sklearn.svm import SVC"
   ]
  },
  {
   "cell_type": "markdown",
   "metadata": {},
   "source": [
    "# Load All Datasets"
   ]
  },
  {
   "cell_type": "code",
   "execution_count": null,
   "metadata": {},
   "outputs": [],
   "source": [
    "# Main X and Y data\n",
    "x_train = pd.read_csv('Data/x_train_gr_smpl.csv')\n",
    "y_train = pd.read_csv('Data/y_train_smpl.csv')\n",
    "\n",
    "\n",
    "print(x_train.shape, y_train.shape)"
   ]
  },
  {
   "cell_type": "markdown",
   "metadata": {},
   "source": [
    "# 10-Fold Cross Validation Linear Classifier Function"
   ]
  },
  {
   "cell_type": "code",
   "execution_count": null,
   "metadata": {},
   "outputs": [],
   "source": [
    "def linear_classifier(x_train, y_train):\n",
    "    \n",
    "    y_train = np.array(y_train).flatten()\n",
    "    \n",
    "    model = SVC()\n",
    "    model.fit(x_train, y_train)\n",
    "\n",
    "    scores = cross_val_score(model, x_train, y_train, cv=2)\n",
    "    np.set_printoptions(precision=2)\n",
    "    \n",
    "    return print('Scores: ',scores, ' Mean Score: ', np.round(scores.mean(), 2))"
   ]
  },
  {
   "cell_type": "code",
   "execution_count": null,
   "metadata": {},
   "outputs": [],
   "source": [
    "linear_classifier(x_train, y_train)"
   ]
  },
  {
   "cell_type": "markdown",
   "metadata": {},
   "source": [
    "# 10-Fold Cross Validation on Training Data using a Neural Network Function"
   ]
  },
  {
   "cell_type": "code",
   "execution_count": null,
   "metadata": {},
   "outputs": [],
   "source": [
    "def neural_network(hidden_layers, neurons, l_rate, epochs, momentum):\n",
    "    x_train = pd.read_csv('Data/x_train_gr_smpl.csv')\n",
    "    y_train = pd.read_csv('Data/y_train_smpl.csv')\n",
    "\n",
    "    x_train = x_train/255\n",
    "    \n",
    "    acc_per_fold = []\n",
    "    loss_per_fold = []\n",
    "    \n",
    "    \n",
    "    kfold = KFold(n_splits=10, shuffle=True)\n",
    "    fold_no = 1\n",
    "    \n",
    "    for train, test in kfold.split(x_train, y_train):\n",
    "        # Neural Network Model\n",
    "        model = Sequential()\n",
    "        model.add(Dense(2304, input_dim = 2304, activation='relu'))\n",
    "\n",
    "        for i in range(hidden_layers):\n",
    "            model.add(Dense(units=neurons, activation='relu'))\n",
    "\n",
    "        model.add(Dense(units=10, activation='softmax'))\n",
    "\n",
    "        opt = SGD(learning_rate=l_rate, momentum=momentum) \n",
    "        model.compile(loss='sparse_categorical_crossentropy', optimizer=opt, metrics=['accuracy'])\n",
    "        \n",
    "        print('-----------------------------------------------------------------------------------------------------------')\n",
    "        print('-----------------------------------------------------------------------------------------------------------')\n",
    "        print(f'Training for fold {fold_no} ...')\n",
    "        \n",
    "        x_train = x_train.reindex(index=range(len(x_train)))\n",
    "        y_train = y_train.reindex(index=range(len(x_train)))\n",
    "        \n",
    "        model.fit(x_train.iloc[train], y_train.iloc[train], epochs=epochs)\n",
    "        \n",
    "        scores = model.evaluate(x_train.iloc[test], y_train.iloc[test])\n",
    "        print(f'Score for fold {fold_no}: {model.metrics_names[0]} of {scores[0]}; {model.metrics_names[1]} of {scores[1]*100}%')\n",
    "\n",
    "        fold_no = fold_no + 1\n",
    "        \n",
    "        y_pred = np.argmax(model.predict(x_train.iloc[test], verbose=0), axis=-1)\n",
    "        \n",
    "        acc_per_fold.append(scores[1] * 100)\n",
    "        loss_per_fold.append(scores[0])\n",
    "        \n",
    "        # Analyzing the results\n",
    "        # Confusion Matrix\n",
    "        cm = metrics.confusion_matrix(y_train.iloc[test], y_pred)\n",
    "        print('Confusion Matrix:')\n",
    "        print(cm)\n",
    "        print('\\n')\n",
    "\n",
    "        # True Positive\n",
    "        TP = np.diag(cm)\n",
    "        # False Positive\n",
    "        FP = cm.sum(axis=0) - TP\n",
    "        # False Negative\n",
    "        FN = cm.sum(axis=1) - TP\n",
    "        # True Negative\n",
    "        TN = cm.sum() - (FP+FN+TP)\n",
    "\n",
    "        #True Positive Rate\n",
    "        TPR = TP/(TP+FN)\n",
    "        TPR_mean = np.round(TPR.mean(), 2)\n",
    "        #False Positive Rate\n",
    "        FPR = FP/(FP+TN)\n",
    "        FPR_mean = np.round(FPR.mean(), 2)\n",
    "        #Precision\n",
    "        Precision = TP/(TP+FP)\n",
    "        Precision_mean = np.round(Precision.mean(), 2)\n",
    "        #Recall\n",
    "        Recall = TP/(TP+FN)\n",
    "        Recall_mean = np.round(Recall.mean(), 2)\n",
    "        #F1 Measure\n",
    "        F1 = 2 * (Precision * Recall) / (Precision + Recall)\n",
    "        F1_mean = np.round(F1.mean(), 2)\n",
    "\n",
    "        np.set_printoptions(precision=2)\n",
    "\n",
    "        print('TP rate: ', TPR)\n",
    "        print('Mean TP rate: ', TPR_mean)\n",
    "        print('FP rate: ', FPR)\n",
    "        print('Mean FP rate: ', FPR_mean)\n",
    "        print('Precision: ', Precision)\n",
    "        print('Mean Precision: ', Precision_mean)\n",
    "        print('Recall: ', Recall)\n",
    "        print('Mean Recall: ', Recall_mean)\n",
    "        print('F Measure: ', F1)\n",
    "        print('Mean F Measure: ', F1_mean)\n",
    "        print('\\n')\n",
    "\n",
    "        print('Classification Report:')\n",
    "        print(metrics.classification_report(y_train.iloc[test], y_pred))\n",
    "\n",
    "        # Visualizing the results\n",
    "        # Heatmap\n",
    "        print('\\n')\n",
    "        print('\\n')\n",
    "        print('Visualization of Results')\n",
    "        plt.figure(figsize=(11,7))\n",
    "        sns.heatmap(cm, annot=True, fmt=' .0f', square=True, cmap='tab20b')\n",
    "        plt.xlabel('Predicted')\n",
    "        plt.ylabel('Actual')\n",
    "        plt.title('Heatmap of Confusion Matrix')\n",
    "\n",
    "\n",
    "        plt.figure(figsize=(8,4))\n",
    "        plt.scatter(Precision, Recall, c='purple')\n",
    "        plt.xlabel('Precsion')\n",
    "        plt.ylabel('Recall')\n",
    "        plt.title('Precision vs Recall Scatter Chart')\n",
    "        plt.show()\n",
    "        \n",
    "        print('\\n')\n",
    "        print('-----------------------------------------------------------------------------------------------------------')\n",
    "        print('-----------------------------------------------------------------------------------------------------------')\n",
    "        print('\\n')\n",
    "\n",
    "    \n",
    "    print('-----------------------------------------------------------------------------------------------------------')\n",
    "    print('Score per fold: ')\n",
    "    for i in range(0, len(acc_per_fold)):\n",
    "        print(f'> Fold {i+1} - Loss: {loss_per_fold[i]} - Accuracy: {acc_per_fold[i]}%')\n",
    "        print('-----------------------------------------------------------------------------------------------------------')\n",
    "    print('Average scores for all folds: ')\n",
    "    print(f'> Accuracy: {np.mean(acc_per_fold)} (+- {np.std(acc_per_fold)})')\n",
    "    print(f'> Loss: {np.mean(loss_per_fold)}')\n",
    "    print('-----------------------------------------------------------------------------------------------------------')"
   ]
  },
  {
   "cell_type": "markdown",
   "metadata": {},
   "source": [
    "# Varying the Neural Network Parameters"
   ]
  },
  {
   "cell_type": "markdown",
   "metadata": {},
   "source": [
    "# Hidden Layers (Other Parameterss remain Constant)"
   ]
  },
  {
   "cell_type": "markdown",
   "metadata": {},
   "source": [
    "# 1 Hidden Layer"
   ]
  },
  {
   "cell_type": "code",
   "execution_count": null,
   "metadata": {},
   "outputs": [],
   "source": [
    "neural_network(hidden_layers=1, neurons=100, l_rate=0.01, epochs=5, momentum=0.9)"
   ]
  },
  {
   "cell_type": "markdown",
   "metadata": {},
   "source": [
    "# 2 Hidden Layers"
   ]
  },
  {
   "cell_type": "code",
   "execution_count": null,
   "metadata": {},
   "outputs": [],
   "source": [
    "neural_network(hidden_layers=2, neurons=100, l_rate=0.01, epochs=5, momentum=0.9)"
   ]
  },
  {
   "cell_type": "markdown",
   "metadata": {},
   "source": [
    "# 4 Hidden Layers"
   ]
  },
  {
   "cell_type": "code",
   "execution_count": null,
   "metadata": {},
   "outputs": [],
   "source": [
    "neural_network(hidden_layers=4, neurons=100, l_rate=0.01, epochs=5, momentum=0.9)"
   ]
  },
  {
   "cell_type": "markdown",
   "metadata": {},
   "source": [
    "# Neurons in Hidden Layers (Other Parameters remain Constant)"
   ]
  },
  {
   "cell_type": "markdown",
   "metadata": {},
   "source": [
    "# 50 Neurons"
   ]
  },
  {
   "cell_type": "code",
   "execution_count": null,
   "metadata": {},
   "outputs": [],
   "source": [
    "neural_network(hidden_layers=2, neurons=50, l_rate=0.01, epochs=5, momentum=0.9)"
   ]
  },
  {
   "cell_type": "markdown",
   "metadata": {},
   "source": [
    "# 100 Neurons"
   ]
  },
  {
   "cell_type": "code",
   "execution_count": null,
   "metadata": {},
   "outputs": [],
   "source": [
    "neural_network(hidden_layers=2, neurons=100, l_rate=0.01, epochs=5, momentum=0.9)"
   ]
  },
  {
   "cell_type": "markdown",
   "metadata": {},
   "source": [
    "# 150 Neurons"
   ]
  },
  {
   "cell_type": "code",
   "execution_count": null,
   "metadata": {},
   "outputs": [],
   "source": [
    "neural_network(hidden_layers=2, neurons=150, l_rate=0.01, epochs=5, momentum=0.9)       "
   ]
  },
  {
   "cell_type": "markdown",
   "metadata": {},
   "source": [
    "# Learning Rate (Other Parameters remian Constant)"
   ]
  },
  {
   "cell_type": "markdown",
   "metadata": {},
   "source": [
    "# Learning Rate = 0.005"
   ]
  },
  {
   "cell_type": "code",
   "execution_count": null,
   "metadata": {},
   "outputs": [],
   "source": [
    "neural_network(hidden_layers=2, neurons=100, l_rate=0.005, epochs=5, momentum=0.9)"
   ]
  },
  {
   "cell_type": "markdown",
   "metadata": {},
   "source": [
    "# Learning Rate = 0.01"
   ]
  },
  {
   "cell_type": "code",
   "execution_count": null,
   "metadata": {},
   "outputs": [],
   "source": [
    "neural_network(hidden_layers=2, neurons=100, l_rate=0.01, epochs=5, momentum=0.9)"
   ]
  },
  {
   "cell_type": "markdown",
   "metadata": {},
   "source": [
    "# Learning Rate = 0.02"
   ]
  },
  {
   "cell_type": "code",
   "execution_count": null,
   "metadata": {},
   "outputs": [],
   "source": [
    "neural_network(hidden_layers=2, neurons=100, l_rate=0.02, epochs=5, momentum=0.9)"
   ]
  },
  {
   "cell_type": "markdown",
   "metadata": {},
   "source": [
    "# Epochs (Other Parameters remain Constant)"
   ]
  },
  {
   "cell_type": "markdown",
   "metadata": {},
   "source": [
    "# Epochs = 5"
   ]
  },
  {
   "cell_type": "code",
   "execution_count": null,
   "metadata": {},
   "outputs": [],
   "source": [
    "neural_network(hidden_layers=2, neurons=100, l_rate=0.01, epochs=5, momentum=0.9)"
   ]
  },
  {
   "cell_type": "markdown",
   "metadata": {},
   "source": [
    "# Epochs = 10"
   ]
  },
  {
   "cell_type": "code",
   "execution_count": null,
   "metadata": {},
   "outputs": [],
   "source": [
    "neural_network(hidden_layers=2, neurons=100, l_rate=0.01, epochs=10, momentum=0.9)"
   ]
  },
  {
   "cell_type": "markdown",
   "metadata": {},
   "source": [
    "# Momentum (Other Parameters remain Constant)"
   ]
  },
  {
   "cell_type": "markdown",
   "metadata": {},
   "source": [
    "# Momentum = 0.5"
   ]
  },
  {
   "cell_type": "code",
   "execution_count": null,
   "metadata": {},
   "outputs": [],
   "source": [
    "neural_network(hidden_layers=2, neurons=100, l_rate=0.01, epochs=5, momentum=0.5)"
   ]
  },
  {
   "cell_type": "markdown",
   "metadata": {},
   "source": [
    "# Momentum = 0.7"
   ]
  },
  {
   "cell_type": "code",
   "execution_count": null,
   "metadata": {},
   "outputs": [],
   "source": [
    "neural_network(hidden_layers=2, neurons=100, l_rate=0.01, epochs=5, momentum=0.7)"
   ]
  },
  {
   "cell_type": "markdown",
   "metadata": {},
   "source": [
    "# Momentum = 0.9"
   ]
  },
  {
   "cell_type": "code",
   "execution_count": null,
   "metadata": {},
   "outputs": [],
   "source": [
    "neural_network(hidden_layers=2, neurons=100, l_rate=0.01, epochs=5, momentum=0.9)"
   ]
  }
 ],
 "metadata": {
  "kernelspec": {
   "display_name": "Python 3",
   "language": "python",
   "name": "python3"
  },
  "language_info": {
   "codemirror_mode": {
    "name": "ipython",
    "version": 3
   },
   "file_extension": ".py",
   "mimetype": "text/x-python",
   "name": "python",
   "nbconvert_exporter": "python",
   "pygments_lexer": "ipython3",
   "version": "3.6.5"
  }
 },
 "nbformat": 4,
 "nbformat_minor": 2
}

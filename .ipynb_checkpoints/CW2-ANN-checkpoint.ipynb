{
 "cells": [
  {
   "cell_type": "markdown",
   "metadata": {
    "colab_type": "text",
    "id": "lP6JLo1tGNBg"
   },
   "source": [
    "# F21DL CW2 - Multi Layer Perceptron"
   ]
  },
  {
   "cell_type": "markdown",
   "metadata": {
    "colab_type": "text",
    "id": "gWZyYmS_UE_L"
   },
   "source": [
    "### Importing the libraries"
   ]
  },
  {
   "cell_type": "code",
   "execution_count": 1,
   "metadata": {
    "colab": {},
    "colab_type": "code",
    "id": "MxkJoQBkUIHC"
   },
   "outputs": [],
   "source": [
    "import numpy as np\n",
    "import pandas as pd\n",
    "import tensorflow as tf\n",
    "import sklearn.preprocessing as skpp "
   ]
  },
  {
   "cell_type": "markdown",
   "metadata": {
    "colab_type": "text",
    "id": "cKWAkFVGUU0Z"
   },
   "source": [
    "### Importing the dataset"
   ]
  },
  {
   "cell_type": "code",
   "execution_count": 2,
   "metadata": {
    "colab": {},
    "colab_type": "code",
    "id": "MXUkhkMfU4wq"
   },
   "outputs": [],
   "source": [
    "x_train_dataset = pd.read_csv('x_train_gr_smpl.csv')\n",
    "X_train = x_train_dataset.iloc[:, :].values\n",
    "y_train_dataset = pd.read_csv('y_train_smpl.csv')\n",
    "y_train_original = y_train_dataset.iloc[:, :].values"
   ]
  },
  {
   "cell_type": "code",
   "execution_count": 3,
   "metadata": {
    "colab": {
     "base_uri": "https://localhost:8080/",
     "height": 137
    },
    "colab_type": "code",
    "id": "VYP9cQTWbzuI",
    "outputId": "797e7a64-9bac-436a-8c9c-94437e5e7587"
   },
   "outputs": [],
   "source": [
    "x_test_dataset = pd.read_csv('x_test_gr_smpl.csv')\n",
    "X_test = x_test_dataset.iloc[:, :].values\n",
    "y_test_dataset = pd.read_csv('y_test_smpl.csv')\n",
    "y_test_original = y_test_dataset.iloc[:, :].values"
   ]
  },
  {
   "cell_type": "markdown",
   "metadata": {
    "colab_type": "text",
    "id": "RE_FcHyfV3TQ"
   },
   "source": [
    "### Feature Scaling"
   ]
  },
  {
   "cell_type": "code",
   "execution_count": 4,
   "metadata": {
    "colab": {},
    "colab_type": "code",
    "id": "ViCrE00rV8Sk"
   },
   "outputs": [],
   "source": [
    "sc = skpp.StandardScaler()\n",
    "X_train = sc.fit_transform(X_train)\n",
    "X_test = sc.transform(X_test)"
   ]
  },
  {
   "cell_type": "code",
   "execution_count": 5,
   "metadata": {},
   "outputs": [],
   "source": [
    "y_train = tf.keras.utils.to_categorical(y_train_original, 10)\n",
    "y_test = tf.keras.utils.to_categorical(y_test_original, 10)"
   ]
  },
  {
   "cell_type": "markdown",
   "metadata": {
    "colab_type": "text",
    "id": "KvdeScabXtlB"
   },
   "source": [
    "### Initializing the ANN"
   ]
  },
  {
   "cell_type": "code",
   "execution_count": 6,
   "metadata": {},
   "outputs": [],
   "source": [
    "#neurons in hidden layers\n",
    "neurons = 10\n",
    "ann = tf.keras.models.Sequential()"
   ]
  },
  {
   "cell_type": "markdown",
   "metadata": {
    "colab_type": "text",
    "id": "rP6urV6SX7kS"
   },
   "source": [
    "### Adding the input layer and the first hidden layer with linear AF"
   ]
  },
  {
   "cell_type": "code",
   "execution_count": 7,
   "metadata": {
    "colab": {},
    "colab_type": "code",
    "id": "bppGycBXYCQr"
   },
   "outputs": [],
   "source": [
    "ann.add(tf.keras.layers.Dense(units=neurons, activation='relu'))"
   ]
  },
  {
   "cell_type": "markdown",
   "metadata": {
    "colab_type": "text",
    "id": "BELWAc_8YJze"
   },
   "source": [
    "### Adding the second hidden layer with Hyperbolic Tangent AF"
   ]
  },
  {
   "cell_type": "code",
   "execution_count": 8,
   "metadata": {
    "colab": {},
    "colab_type": "code",
    "id": "JneR0u0sYRTd"
   },
   "outputs": [],
   "source": [
    "ann.add(tf.keras.layers.Dense(units=neurons, activation='tanh'))"
   ]
  },
  {
   "cell_type": "markdown",
   "metadata": {
    "colab_type": "text",
    "id": "OyNEe6RXYcU4"
   },
   "source": [
    "### Adding the output layer with Softmax AF"
   ]
  },
  {
   "cell_type": "code",
   "execution_count": 9,
   "metadata": {
    "colab": {},
    "colab_type": "code",
    "id": "Cn3x41RBYfvY"
   },
   "outputs": [],
   "source": [
    "ann.add(tf.keras.layers.Dense(units=10, activation='softmax'))"
   ]
  },
  {
   "cell_type": "markdown",
   "metadata": {
    "colab_type": "text",
    "id": "JT4u2S1_Y4WG"
   },
   "source": [
    "## Training the ANN"
   ]
  },
  {
   "cell_type": "markdown",
   "metadata": {
    "colab_type": "text",
    "id": "8GWlJChhY_ZI"
   },
   "source": [
    "### Compiling"
   ]
  },
  {
   "cell_type": "code",
   "execution_count": 43,
   "metadata": {
    "colab": {},
    "colab_type": "code",
    "id": "fG3RrwDXZEaS"
   },
   "outputs": [],
   "source": [
    "ann.compile(optimizer = 'adam', loss = 'categorical_crossentropy', metrics = ['accuracy'])"
   ]
  },
  {
   "cell_type": "markdown",
   "metadata": {
    "colab_type": "text",
    "id": "0QR_G5u7ZLSM"
   },
   "source": [
    "### Training the ANN on training set"
   ]
  },
  {
   "cell_type": "code",
   "execution_count": 44,
   "metadata": {
    "colab": {
     "base_uri": "https://localhost:8080/",
     "height": 1000
    },
    "colab_type": "code",
    "id": "nHZ-LKv_ZRb3",
    "outputId": "718cc4b0-b5aa-40f0-9b20-d3d31730a531"
   },
   "outputs": [
    {
     "name": "stdout",
     "output_type": "stream",
     "text": [
      "Epoch 1/100\n",
      "303/303 [==============================] - 0s 792us/step - loss: 0.0315 - accuracy: 0.9911\n",
      "Epoch 2/100\n",
      "303/303 [==============================] - 0s 741us/step - loss: 0.0219 - accuracy: 0.9946\n",
      "Epoch 3/100\n",
      "303/303 [==============================] - 0s 1ms/step - loss: 0.0308 - accuracy: 0.9906\n",
      "Epoch 4/100\n",
      "303/303 [==============================] - 0s 925us/step - loss: 0.0706 - accuracy: 0.9782\n",
      "Epoch 5/100\n",
      "303/303 [==============================] - 0s 1ms/step - loss: 0.0218 - accuracy: 0.9935\n",
      "Epoch 6/100\n",
      "303/303 [==============================] - 0s 754us/step - loss: 0.0264 - accuracy: 0.9924\n",
      "Epoch 7/100\n",
      "303/303 [==============================] - 0s 767us/step - loss: 0.0200 - accuracy: 0.9938\n",
      "Epoch 8/100\n",
      "303/303 [==============================] - 0s 762us/step - loss: 0.0757 - accuracy: 0.9799\n",
      "Epoch 9/100\n",
      "303/303 [==============================] - 0s 719us/step - loss: 0.0185 - accuracy: 0.9957\n",
      "Epoch 10/100\n",
      "303/303 [==============================] - 0s 996us/step - loss: 0.0373 - accuracy: 0.9885\n",
      "Epoch 11/100\n",
      "303/303 [==============================] - 0s 888us/step - loss: 0.0263 - accuracy: 0.9933\n",
      "Epoch 12/100\n",
      "303/303 [==============================] - 0s 802us/step - loss: 0.0385 - accuracy: 0.9889\n",
      "Epoch 13/100\n",
      "303/303 [==============================] - 0s 729us/step - loss: 0.0215 - accuracy: 0.9941\n",
      "Epoch 14/100\n",
      "303/303 [==============================] - 0s 839us/step - loss: 0.0325 - accuracy: 0.9915\n",
      "Epoch 15/100\n",
      "303/303 [==============================] - 0s 771us/step - loss: 0.0414 - accuracy: 0.9866\n",
      "Epoch 16/100\n",
      "303/303 [==============================] - 0s 757us/step - loss: 0.0355 - accuracy: 0.9894\n",
      "Epoch 17/100\n",
      "303/303 [==============================] - 0s 853us/step - loss: 0.0120 - accuracy: 0.9977\n",
      "Epoch 18/100\n",
      "303/303 [==============================] - 0s 803us/step - loss: 0.0234 - accuracy: 0.9936\n",
      "Epoch 19/100\n",
      "303/303 [==============================] - 0s 776us/step - loss: 0.0525 - accuracy: 0.9866\n",
      "Epoch 20/100\n",
      "303/303 [==============================] - 0s 754us/step - loss: 0.0395 - accuracy: 0.9883\n",
      "Epoch 21/100\n",
      "303/303 [==============================] - 0s 759us/step - loss: 0.0255 - accuracy: 0.9927\n",
      "Epoch 22/100\n",
      "303/303 [==============================] - 0s 849us/step - loss: 0.0399 - accuracy: 0.9886\n",
      "Epoch 23/100\n",
      "303/303 [==============================] - 0s 765us/step - loss: 0.0490 - accuracy: 0.9851\n",
      "Epoch 24/100\n",
      "303/303 [==============================] - 0s 821us/step - loss: 0.0223 - accuracy: 0.9947\n",
      "Epoch 25/100\n",
      "303/303 [==============================] - 0s 840us/step - loss: 0.0412 - accuracy: 0.9888\n",
      "Epoch 26/100\n",
      "303/303 [==============================] - 0s 775us/step - loss: 0.0408 - accuracy: 0.9879\n",
      "Epoch 27/100\n",
      "303/303 [==============================] - 0s 781us/step - loss: 0.0207 - accuracy: 0.9946\n",
      "Epoch 28/100\n",
      "303/303 [==============================] - 0s 712us/step - loss: 0.0117 - accuracy: 0.9974\n",
      "Epoch 29/100\n",
      "303/303 [==============================] - 0s 737us/step - loss: 0.0499 - accuracy: 0.9874\n",
      "Epoch 30/100\n",
      "303/303 [==============================] - 0s 714us/step - loss: 0.0349 - accuracy: 0.9901\n",
      "Epoch 31/100\n",
      "303/303 [==============================] - 0s 764us/step - loss: 0.0728 - accuracy: 0.9799\n",
      "Epoch 32/100\n",
      "303/303 [==============================] - 0s 714us/step - loss: 0.0187 - accuracy: 0.9954\n",
      "Epoch 33/100\n",
      "303/303 [==============================] - 0s 716us/step - loss: 0.0141 - accuracy: 0.9966\n",
      "Epoch 34/100\n",
      "303/303 [==============================] - 0s 726us/step - loss: 0.0258 - accuracy: 0.9928\n",
      "Epoch 35/100\n",
      "303/303 [==============================] - 0s 820us/step - loss: 0.0461 - accuracy: 0.9865\n",
      "Epoch 36/100\n",
      "303/303 [==============================] - 0s 704us/step - loss: 0.0269 - accuracy: 0.9928\n",
      "Epoch 37/100\n",
      "303/303 [==============================] - 0s 696us/step - loss: 0.0383 - accuracy: 0.9902\n",
      "Epoch 38/100\n",
      "303/303 [==============================] - 0s 760us/step - loss: 0.0255 - accuracy: 0.9936\n",
      "Epoch 39/100\n",
      "303/303 [==============================] - 0s 721us/step - loss: 0.0375 - accuracy: 0.9886\n",
      "Epoch 40/100\n",
      "303/303 [==============================] - 0s 767us/step - loss: 0.0372 - accuracy: 0.9895\n",
      "Epoch 41/100\n",
      "303/303 [==============================] - 0s 713us/step - loss: 0.0918 - accuracy: 0.9780\n",
      "Epoch 42/100\n",
      "303/303 [==============================] - 0s 700us/step - loss: 0.0158 - accuracy: 0.9963\n",
      "Epoch 43/100\n",
      "303/303 [==============================] - 0s 700us/step - loss: 0.0251 - accuracy: 0.9941\n",
      "Epoch 44/100\n",
      "303/303 [==============================] - 0s 809us/step - loss: 0.0238 - accuracy: 0.9935\n",
      "Epoch 45/100\n",
      "303/303 [==============================] - 0s 760us/step - loss: 0.0536 - accuracy: 0.9816\n",
      "Epoch 46/100\n",
      "303/303 [==============================] - 0s 769us/step - loss: 0.0554 - accuracy: 0.9852\n",
      "Epoch 47/100\n",
      "303/303 [==============================] - 0s 810us/step - loss: 0.0127 - accuracy: 0.9974\n",
      "Epoch 48/100\n",
      "303/303 [==============================] - 0s 822us/step - loss: 0.0133 - accuracy: 0.9970\n",
      "Epoch 49/100\n",
      "303/303 [==============================] - 0s 1ms/step - loss: 0.0338 - accuracy: 0.9912\n",
      "Epoch 50/100\n",
      "303/303 [==============================] - 0s 1ms/step - loss: 0.0392 - accuracy: 0.9889\n",
      "Epoch 51/100\n",
      "303/303 [==============================] - 0s 919us/step - loss: 0.0135 - accuracy: 0.9964\n",
      "Epoch 52/100\n",
      "303/303 [==============================] - 0s 828us/step - loss: 0.0318 - accuracy: 0.9906\n",
      "Epoch 53/100\n",
      "303/303 [==============================] - 0s 944us/step - loss: 0.0499 - accuracy: 0.9866\n",
      "Epoch 54/100\n",
      "303/303 [==============================] - 0s 670us/step - loss: 0.0504 - accuracy: 0.9849\n",
      "Epoch 55/100\n",
      "303/303 [==============================] - 0s 673us/step - loss: 0.0156 - accuracy: 0.9959\n",
      "Epoch 56/100\n",
      "303/303 [==============================] - 0s 732us/step - loss: 0.0108 - accuracy: 0.9979\n",
      "Epoch 57/100\n",
      "303/303 [==============================] - 0s 687us/step - loss: 0.0481 - accuracy: 0.9873\n",
      "Epoch 58/100\n",
      "303/303 [==============================] - 0s 679us/step - loss: 0.0618 - accuracy: 0.9820\n",
      "Epoch 59/100\n",
      "303/303 [==============================] - 0s 665us/step - loss: 0.0390 - accuracy: 0.9884\n",
      "Epoch 60/100\n",
      "303/303 [==============================] - 0s 727us/step - loss: 0.0117 - accuracy: 0.9971\n",
      "Epoch 61/100\n",
      "303/303 [==============================] - 0s 689us/step - loss: 0.0448 - accuracy: 0.9880\n",
      "Epoch 62/100\n",
      "303/303 [==============================] - 0s 676us/step - loss: 0.0200 - accuracy: 0.9949\n",
      "Epoch 63/100\n",
      "303/303 [==============================] - 0s 681us/step - loss: 0.0368 - accuracy: 0.9899\n",
      "Epoch 64/100\n",
      "303/303 [==============================] - 0s 670us/step - loss: 0.0494 - accuracy: 0.9853\n",
      "Epoch 65/100\n",
      "303/303 [==============================] - 0s 751us/step - loss: 0.0298 - accuracy: 0.9904\n",
      "Epoch 66/100\n",
      "303/303 [==============================] - 0s 676us/step - loss: 0.0155 - accuracy: 0.9962\n",
      "Epoch 67/100\n",
      "303/303 [==============================] - 0s 681us/step - loss: 0.0150 - accuracy: 0.9969\n",
      "Epoch 68/100\n",
      "303/303 [==============================] - 0s 676us/step - loss: 0.0512 - accuracy: 0.9860\n",
      "Epoch 69/100\n",
      "303/303 [==============================] - 0s 677us/step - loss: 0.0380 - accuracy: 0.9898\n",
      "Epoch 70/100\n",
      "303/303 [==============================] - 0s 746us/step - loss: 0.0302 - accuracy: 0.9915\n",
      "Epoch 71/100\n",
      "303/303 [==============================] - 0s 685us/step - loss: 0.0462 - accuracy: 0.9866\n",
      "Epoch 72/100\n",
      "303/303 [==============================] - 0s 686us/step - loss: 0.0146 - accuracy: 0.9967\n",
      "Epoch 73/100\n",
      "303/303 [==============================] - 0s 673us/step - loss: 0.0266 - accuracy: 0.9932\n",
      "Epoch 74/100\n",
      "303/303 [==============================] - 0s 734us/step - loss: 0.0413 - accuracy: 0.9892\n",
      "Epoch 75/100\n",
      "303/303 [==============================] - 0s 692us/step - loss: 0.0160 - accuracy: 0.9960\n",
      "Epoch 76/100\n",
      "303/303 [==============================] - 0s 677us/step - loss: 0.0456 - accuracy: 0.9863\n",
      "Epoch 77/100\n",
      "303/303 [==============================] - 0s 674us/step - loss: 0.0465 - accuracy: 0.9869\n",
      "Epoch 78/100\n",
      "303/303 [==============================] - 0s 690us/step - loss: 0.0167 - accuracy: 0.9962\n",
      "Epoch 79/100\n",
      "303/303 [==============================] - 0s 747us/step - loss: 0.0497 - accuracy: 0.9869\n"
     ]
    },
    {
     "name": "stdout",
     "output_type": "stream",
     "text": [
      "Epoch 80/100\n",
      "303/303 [==============================] - 0s 653us/step - loss: 0.0180 - accuracy: 0.9955\n",
      "Epoch 81/100\n",
      "303/303 [==============================] - 0s 646us/step - loss: 0.0465 - accuracy: 0.9858\n",
      "Epoch 82/100\n",
      "303/303 [==============================] - 0s 644us/step - loss: 0.0252 - accuracy: 0.9927\n",
      "Epoch 83/100\n",
      "303/303 [==============================] - 0s 646us/step - loss: 0.0209 - accuracy: 0.9944\n",
      "Epoch 84/100\n",
      "303/303 [==============================] - 0s 706us/step - loss: 0.0308 - accuracy: 0.9918\n",
      "Epoch 85/100\n",
      "303/303 [==============================] - 0s 652us/step - loss: 0.0581 - accuracy: 0.9841\n",
      "Epoch 86/100\n",
      "303/303 [==============================] - 0s 660us/step - loss: 0.0553 - accuracy: 0.9835\n",
      "Epoch 87/100\n",
      "303/303 [==============================] - 0s 654us/step - loss: 0.0213 - accuracy: 0.9943\n",
      "Epoch 88/100\n",
      "303/303 [==============================] - 0s 655us/step - loss: 0.0234 - accuracy: 0.9933\n",
      "Epoch 89/100\n",
      "303/303 [==============================] - 0s 724us/step - loss: 0.0145 - accuracy: 0.9972\n",
      "Epoch 90/100\n",
      "303/303 [==============================] - 0s 655us/step - loss: 0.0335 - accuracy: 0.9906\n",
      "Epoch 91/100\n",
      "303/303 [==============================] - 0s 663us/step - loss: 0.0172 - accuracy: 0.9961\n",
      "Epoch 92/100\n",
      "303/303 [==============================] - 0s 657us/step - loss: 0.0339 - accuracy: 0.9913\n",
      "Epoch 93/100\n",
      "303/303 [==============================] - 0s 654us/step - loss: 0.0347 - accuracy: 0.9901\n",
      "Epoch 94/100\n",
      "303/303 [==============================] - 0s 736us/step - loss: 0.0318 - accuracy: 0.9910\n",
      "Epoch 95/100\n",
      "303/303 [==============================] - 0s 662us/step - loss: 0.0261 - accuracy: 0.9929\n",
      "Epoch 96/100\n",
      "303/303 [==============================] - 0s 663us/step - loss: 0.0376 - accuracy: 0.9892\n",
      "Epoch 97/100\n",
      "303/303 [==============================] - 0s 667us/step - loss: 0.0287 - accuracy: 0.9924\n",
      "Epoch 98/100\n",
      "303/303 [==============================] - 0s 708us/step - loss: 0.0309 - accuracy: 0.9915\n",
      "Epoch 99/100\n",
      "303/303 [==============================] - 0s 668us/step - loss: 0.0569 - accuracy: 0.9835\n",
      "Epoch 100/100\n",
      "303/303 [==============================] - 0s 693us/step - loss: 0.0555 - accuracy: 0.9853\n"
     ]
    },
    {
     "data": {
      "text/plain": [
       "<tensorflow.python.keras.callbacks.History at 0x7fc91a5ca550>"
      ]
     },
     "execution_count": 44,
     "metadata": {},
     "output_type": "execute_result"
    }
   ],
   "source": [
    "ann.fit(X_train, y_train, batch_size = 32, epochs = 100)"
   ]
  },
  {
   "cell_type": "markdown",
   "metadata": {
    "colab_type": "text",
    "id": "u7yx47jPZt11"
   },
   "source": [
    "### Predicting the Test set results"
   ]
  },
  {
   "cell_type": "code",
   "execution_count": 61,
   "metadata": {},
   "outputs": [],
   "source": [
    "y_pred = np.argmax(ann.predict(X_test), axis=-1)\n",
    "y_probs = ann.predict(X_test, verbose=0)"
   ]
  },
  {
   "cell_type": "markdown",
   "metadata": {
    "colab_type": "text",
    "id": "tJj5k2MxZga3"
   },
   "source": [
    "## Evaluating the model"
   ]
  },
  {
   "cell_type": "code",
   "execution_count": 42,
   "metadata": {
    "colab": {
     "base_uri": "https://localhost:8080/",
     "height": 137
    },
    "colab_type": "code",
    "id": "nIyEeQdRZwgs",
    "outputId": "82330ba8-9bdc-4fd1-d3cf-b6d78ee7c2a3"
   },
   "outputs": [
    {
     "name": "stdout",
     "output_type": "stream",
     "text": [
      "['loss', 'accuracy', 'true_positives']\n",
      "Test loss: 0.6627127528190613\n",
      "Test accuracy: 0.9029126167297363\n",
      "Test True Positives: 2778.0\n",
      "9690\n"
     ]
    }
   ],
   "source": [
    "score = ann.evaluate(X_test, y_test, verbose=0)\n",
    "print(ann.metrics_names)\n",
    "print('Test loss:', score[0])\n",
    "print('Test accuracy:', score[1])"
   ]
  },
  {
   "cell_type": "markdown",
   "metadata": {
    "colab_type": "text",
    "id": "o0oyfLWoaEGw"
   },
   "source": [
    "### Making the Confusion Matrix"
   ]
  },
  {
   "cell_type": "code",
   "execution_count": 65,
   "metadata": {
    "colab": {
     "base_uri": "https://localhost:8080/",
     "height": 68
    },
    "colab_type": "code",
    "id": "ci6K_r6LaF6P",
    "outputId": "4d854e9e-22d5-432f-f6e5-a102fe3ae0bd"
   },
   "outputs": [
    {
     "name": "stdout",
     "output_type": "stream",
     "text": [
      "Accuracy: 0.892880\n",
      "Precision: 0.832515\n",
      "Recall: 0.813279\n",
      "F1 Score: 0.819264\n",
      "Cohens Kappa: 0.868316\n",
      "ROC AUC: 0.961341\n",
      "\n",
      "Confusion Matrix:\n",
      "[[ 36  16   0   0   8   0   0   0   0   0]\n",
      " [ 11 647  24   9  21   0   7   0   1   0]\n",
      " [  0  11 707  21  11   0   0   0   0   0]\n",
      " [  0   3   5 436   0   2   0   0   2   2]\n",
      " [  8  41  17   1 584   1   3   1   1   3]\n",
      " [  0   0   0   8   0  50   0   0   1   1]\n",
      " [  0   5   0   0   1   2  74   0   4   4]\n",
      " [  0  30   0   0   0   0   0  30   0   0]\n",
      " [  2   1   1   2   0   2   9  13 109  11]\n",
      " [  0   0   0   0   0   0   4   0   0  86]]\n"
     ]
    }
   ],
   "source": [
    "from sklearn.metrics import confusion_matrix, accuracy_score, precision_score, recall_score, f1_score, cohen_kappa_score, roc_auc_score\n",
    "\n",
    "accuracy = accuracy_score(y_test_original, y_pred)\n",
    "print('Accuracy: %f' % accuracy)\n",
    "precision = precision_score(y_test_original, y_pred, average = \"macro\")\n",
    "print('Precision: %f' % precision)\n",
    "recall = recall_score(y_test_original, y_pred, average = \"macro\")\n",
    "print('Recall: %f' % recall)\n",
    "f1score = f1_score(y_test_original, y_pred, average = \"macro\")\n",
    "print('F1 Score: %f' % f1score)\n",
    "cohenkappa = cohen_kappa_score(y_test_original, y_pred)\n",
    "print('Cohens Kappa: %f' % cohenkappa)\n",
    "rocauc = roc_auc_score(y_test, y_probs, multi_class = \"ovo\")\n",
    "print('ROC AUC: %f' % rocauc)\n",
    "cm = confusion_matrix(y_test_original, y_pred)\n",
    "print('\\nConfusion Matrix:')\n",
    "print(cm)"
   ]
  },
  {
   "cell_type": "code",
   "execution_count": null,
   "metadata": {},
   "outputs": [],
   "source": []
  }
 ],
 "metadata": {
  "colab": {
   "collapsed_sections": [],
   "name": "artificial_neural_network.ipynb",
   "provenance": [],
   "toc_visible": true
  },
  "kernelspec": {
   "display_name": "Python 3",
   "language": "python",
   "name": "python3"
  },
  "language_info": {
   "codemirror_mode": {
    "name": "ipython",
    "version": 3
   },
   "file_extension": ".py",
   "mimetype": "text/x-python",
   "name": "python",
   "nbconvert_exporter": "python",
   "pygments_lexer": "ipython3",
   "version": "3.8.3"
  }
 },
 "nbformat": 4,
 "nbformat_minor": 1
}
